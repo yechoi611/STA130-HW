{
 "cells": [
  {
   "cell_type": "markdown",
   "id": "321fd329",
   "metadata": {},
   "source": [
    "## Proposal 1\n",
    "\n",
    "<ins> Research Question\n",
    "\n",
    "How does gender identity correlate with neuroticism.\n",
    "\n",
    "<ins> Variables\n",
    "\n",
    "The variable DEMO_identity_lgbtq (identfies whether somebody identifies as lgbtq or not) will help categorize data into binary and non binary gender identity groups. PSYCH_ten_item_personality_inventory_emotional_stability_calm_2 (self measurment of whether somebody thinks of themselves as a calm person) will also be used as a variable becuase it is a valid measure able to evaluate a person's level of neuroticism which is generally interpreted as emotional stability/calmness. These variables are important to be selected for investigation because it can help understand how the societial pressures and stigmas surrounding a certain gender identity could upset one's mental health. \n",
    "\n",
    "In terms of visualization, a histogram could help display the distribution of neuroticism scores within the 2 identity categories. This can help assess the normality of the data as well as its ditribution to see if each gender category is well represented by the sample. Also, a box plot can represent the distribtion of neurotixism across the groups. The use of a box plot is justified by the way it clearly illustrates key statistics, central tendencies, and variability.\n",
    "\n",
    "<ins> Analysis\n",
    "\n",
    "I will use a p value testing analysis by calculating the difference in the means of neuroticism scores (where the categorical ratings are converted to numerical ratings) through bootstrapping. You can do this by first simulating a bootstrapped sample of the given data. Then, you can do another bootstrapping simulation but this time under the assumption that your null hypothesis is true. Here your null hypothesis is that the difference between the mean neuroticism scores is 0. Then, you can calculate the p value based on how extreme your observed difference is in relation to your simulated data under the assumption that the null hypothesis is true.\n",
    "\n",
    "<ins> Hypothesis\n",
    "    \n",
    "H0: The difference between the mean neuroticism scores is 0. \n",
    "H1: The difference between the mean neuroticism scores is not 0. \n",
    "\n",
    "The result from my analysis would be a p value. This is relevant in answering my research question because a small p value means that the null hypothesis is implausible. Generally, if the p value is less than 0.05 you would reject the null hypothesis. If the p value is greater than 0.05, you fail to reject the null hypothesis. These results relate back to my research question because I would expect that the p value is less than 0.05 since it is highly likely that those of unconventional gender identites recieve more societal stressors that could contribute to an unstable mental health; in other words the neurotiscism scores between the gender identities would not be the same (I expect that people of non binary gender identites will have higher neuroticism).\n"
   ]
  },
  {
   "cell_type": "markdown",
   "id": "5bd252fd",
   "metadata": {},
   "source": [
    "## Proposal 2\n",
    "\n",
    "<ins> Research Question\n",
    "\n",
    "How does an Indegeonous and non Indegeonous identity correlate with the number of somatic and affective symptoms experienced and how does this relate to self reported depression.\n",
    "\n",
    "<ins> Variables\n",
    "\n",
    "The variables I will explore are DEMO_identity_indigenous (whether somebody is indigenous or not), WELLNESS_self_rated_physical_health (self measurement of their physical health), WELLNESS_self_rated_mental_health (self measurement of their mental health), WELLNESS_malach_pines_burnout_measure_depressed (self measurement of whether/how often they feel depressed). \n",
    "\n",
    "Collectivist cultures manifest more somatic symptoms rather than affective symptoms compared to individualistc cultures. For example, a study on chinese people saw them manifest major depressive disorder as neurasthenia and thus researchs determined that neurasthenia is a collectivist method of expressing depression. Since arriving in Canada, I have learned from my SOC100 course that the indegenous community are heavily underrepresented. Thus, assuming that current methods used to diagnose and treat depression have been developed through studies of largely white Caucasian samples, I think conducting such a statistical analysis can reveal the unique symptoms that indegenous people might experience and thus improve diagnosis of depression for them. Perhaps, even a unique diagnosis criteria can be developed tailored to indegenous communities such as DSM III for caucasians or CCMD 3 for asians. \n",
    "\n",
    "I chose DEMO_identity_indigenous as a variable becuase it is a necessity to identify those who are indegenous from the data as they are our target population. Then, WELLNESS_self_rated_physical_health and WELLNESS_self_rated_mental_health can give a relative summary of any somatic and affective symptoms they might be experiencing respectively. In order to determine whether they are suffering from depression,  WELLNESS_malach_pines_burnout_measure_depressed will also be considered as a variable. However, there is a lmitation to this last selected variable since it is self reported. However, the provided CSCS data does not show information about rates of clinically diagnosed depression; thus, WELLNESS_malach_pines_burnout_measure_depressed was nonethless chosen as the best option.\n",
    "\n",
    "A box plot can be used to visualize the distribution of all 3 variables for data points corresponding to indegenous and non indegenous identity because it makes it easy to compare key statistics like mean, quartiles, and outliers. Here it would important to convert the categorical variables into numerical ones by assigning a numerical ranking system. For example: fair, good, very good, and excellent for WELLNESS_self_rated_physical_health can be 1, 2, 3, 4 respectively.\n",
    "\n",
    "<ins> Analysis\n",
    "\n",
    "To explore the relationships between Indigenous identity, depression symptom types, and self-reported measures of depression, a regression model can be used. You can do this by setting the outcome as the physical health or mental health score and the predictor as indegenous identity (also converting the categorical variables into numerical ones). You would convert 'yes, indegenous' and 'no, not indegenous' into 1 and 0 respectively. So, your x axis (predictor) for your linear regression would have the values 0 and 1. Then, your y axis would be the numerical representations of WELLNESS_self_rated_physical_health and WELLNESS_self_rated_mental_health. You would create these 2 linear regression models for each WELLNESS_malach_pines_burnout_measure_depressed categories which are: never, almost never, rarely, sometimes, often, and very often. So in summary, 12 linear regressions will be made. You would draw theoretical simple linear regression models under the assumptions would be that the relationship is linear, error terms are normally distributed, homoscedastic, and statistically independant. Then, you would draw fitted regression model which is different then a theoretical model because this minimizes the the sum of squared residuals. Your resulting equations would then be Y = B0 + B1X.\n",
    "\n",
    "<ins> Hypothesis\n",
    "\n",
    "H0: there is no relationship between indegenous identity and the reporting of somatic and affective symptoms of depression.\n",
    "H1: there is a significant relationship between indegenous identity and the reporting of somatic and affective symptoms. Indegenous individuals report higher proportions of somatic symptoms when suffering from depression.\n",
    "\n",
    "The possible results of my analysis is a summary table listing the coefficiants for B0 and B1 as well as their p values. These results relate back to my research question becuase you can examine the B1 coefficiant to determine strength and direction of the relationship and then examine the p value to determine the validity of this coefficiant, thus rejecting or failing to reject the null hypothesis. I do not expect my B1 values to be close to 0 but rather depict a positive relationship. "
   ]
  },
  {
   "cell_type": "markdown",
   "id": "d4a7f76e",
   "metadata": {},
   "source": [
    "## Proposal 3\n",
    "\n",
    "<ins> Research Question\n",
    "\n",
    "How does social eating with parents reflect the quality of their relationship in childhood and what is its correlation with adverse childhood experiences reflected by cannabis use in adulthood\n",
    "\n",
    "<ins> Variables\n",
    "\n",
    "NUTRITION_social_eating_parents (how often do they eat with their parents) and SUBSTANCE_USE_drugs_cannabis (how often do they use cannabis) are my variables. This is because NUTRITION_social_eating_parents measures the frequency of shared meals with parents and this can indicate their level of filial relationship. This is because those with adverse childhood experiences would probably not have a continued, strong relationship with their parents to eat many meals together. SUBSTANCE_USE_drugs_cannabis was selected becuase it is a consequence of adverse childhood effects in ones adulthood as they turn to substance abuse. \n",
    "\n",
    "Box plots can be drawn for each cateogry in NUTRITION_social_eating_parents to compare the distribution of the corresponding SUBSTANCE_USE_drugs_cannabis. Here, SUBSTANCE_USE_drugs_cannabis would need to be converted into a numerical scale from its categorical data type. Box plots will help illustrate variations in cannabis use across different frequencies of social eating to provide a quick analysis of differences.\n",
    "\n",
    "<ins> Analysis\n",
    "    \n",
    "The analysis method used here will be bootstrapped confidance intervals. Firstly, groups will be defined based on the reported frequencies of social eating with parents. Then, from the original sample, you will simulate resampling with replacement to do bootstrapping. For each resample, you then calculate the mean cannabis use for each defined group. Then, you calculate the mean difference in cannabis use between the groups. Finally, a confidence interval for the mean difference using the distribution of mean differences obtained can be calculated using the np.quantile() method. Here, you will construct a 95% confidence interval. The assumptions that you make are that each data point is independant of others and that you randomly resample from the original sample. \n",
    "\n",
    "\n",
    "<ins> Hypothesis\n",
    "    \n",
    "H0: The mean difference in cannabis use between the groups is 0.\n",
    "H1: The mean difference in cannabis use between the groups is not 0.\n",
    "\n",
    "\n",
    "The results from my analysis would be a range of the difference of means which represents the 95% confidence interval. If the value 0 falls within this range, you would fail to reject the null hypothesis. If it does not, then you reject the null hypothesis. These results would be relevant in answering my research question because if a signficant relation is identified between social eating with parents and cannabis use (in other words the mean difference is not 0), this would emphasize the detrimental effect of adverse childhood expereinces that last till adulthood, resulting in destructive behaviors like using drugs."
   ]
  },
  {
   "cell_type": "code",
   "execution_count": null,
   "id": "448386d4",
   "metadata": {},
   "outputs": [],
   "source": []
  }
 ],
 "metadata": {
  "kernelspec": {
   "display_name": "Python 3 (ipykernel)",
   "language": "python",
   "name": "python3"
  },
  "language_info": {
   "codemirror_mode": {
    "name": "ipython",
    "version": 3
   },
   "file_extension": ".py",
   "mimetype": "text/x-python",
   "name": "python",
   "nbconvert_exporter": "python",
   "pygments_lexer": "ipython3",
   "version": "3.11.6"
  }
 },
 "nbformat": 4,
 "nbformat_minor": 5
}
